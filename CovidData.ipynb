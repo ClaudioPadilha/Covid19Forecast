{
 "cells": [
  {
   "cell_type": "markdown",
   "metadata": {},
   "source": [
    "# Covid-19 projections based on data\n",
    "\n",
    "Here I just want to fit a function to COVID-19 data, for both the accumulated cases as well as accumulated deaths:\n",
    "\n",
    "$$ f(t, r, t_{peak}, N_{max}) = \\frac{N_{max}}{1 + e^{-r\\left(t-t_{peak}\\right)}} $$\n",
    "\n",
    "where $r$ is a number related to the rate of infection (it is *not* $R_0$!) $t_{peak}$ is the peak date, the day where there will be most infections and then the number of daily infections will start to fall, and $N_{max}$ is the forecast for the maximum number of cases or deaths. Of course these number will vary from day to day, as it was brilliantly pointed out by my friend [Dr. Christian Schuster](https://www.linkedin.com/in/c-schuster/) in [his post on LinkedIn](https://www.linkedin.com/pulse/c19-quo-vadis-cs-schuster/?trackingId=b6vLfaKTSme260vu6ugtbQ%3D%3D), which in fact is the mind that pointed me out how to perform this kind of forecast on top of the pandemics data."
   ]
  },
  {
   "cell_type": "code",
   "execution_count": 1,
   "metadata": {},
   "outputs": [],
   "source": [
    "import sys\n",
    "import requests\n",
    "import ipywidgets as widgets\n",
    "from bs4 import BeautifulSoup\n",
    "from ipywidgets import interact\n",
    "import matplotlib.pyplot as plt\n",
    "import numpy as np\n",
    "import re\n",
    "from scipy.optimize import curve_fit\n",
    "%matplotlib inline"
   ]
  },
  {
   "cell_type": "code",
   "execution_count": 2,
   "metadata": {},
   "outputs": [],
   "source": [
    "# get list of countries from main page\n",
    "url = 'https://www.worldometers.info/coronavirus/'\n",
    "\n",
    "res = requests.get(url)\n",
    "html_page = res.content\n",
    "soup = BeautifulSoup(html_page, 'html.parser')\n",
    "text = soup.find_all('a', {'class' : 'mt_a'}) #text=True)\n",
    "\n",
    "# store countries' names and urls in dict\n",
    "countries = {t['href'].split('/')[1] : url + t['href'] for t in text}"
   ]
  },
  {
   "cell_type": "code",
   "execution_count": 10,
   "metadata": {
    "scrolled": false
   },
   "outputs": [
    {
     "data": {
      "application/vnd.jupyter.widget-view+json": {
       "model_id": "fb94c6307ee44a378311563953a98e49",
       "version_major": 2,
       "version_minor": 0
      },
      "text/plain": [
       "interactive(children=(Dropdown(description='country', options={'us': 'https://www.worldometers.info/coronaviru…"
      ]
     },
     "metadata": {},
     "output_type": "display_data"
    }
   ],
   "source": [
    "# function to fit\n",
    "def f(x, r, x_0, n):\n",
    "    return n / (1. + np.exp(-r * (x - x_0)))\n",
    "\n",
    "# do the curve plotting and fitting for each country\n",
    "@interact\n",
    "def showme(country = countries, fit_cases=False, fit_deaths=False):\n",
    "    res_country = requests.get(country)\n",
    "    html_country = res_country.content\n",
    "    soup_country = BeautifulSoup(html_country, 'html.parser')\n",
    "    data_country = soup_country.find_all('script', {'type' : 'text/javascript'})\n",
    "\n",
    "    data = {}\n",
    "    for d in data_country:\n",
    "        m = re.search('series:\\s+\\[{\\n\\s+name:\\s+\\'(.*)\\',\\n(.*\\n){2}\\s+data:\\s+\\[(([0-9]+,)+[0-9]+)\\]\\s+}\\]', str(d))\n",
    "        if m:\n",
    "            data[m[1]] = np.array(m[3].split(','), dtype=int)\n",
    "\n",
    "    c = 'Country: {:s}'.format(country.split('/')[-2])\n",
    "    for k in data.keys():\n",
    "        print(c + ', found key \\'{:s}\\''.format(k))\n",
    "\n",
    "    n = len(data)\n",
    "        \n",
    "    fig, ax = plt.subplots(ncols=n, figsize=(n * 5, 4))\n",
    "    \n",
    "    for i, d in enumerate(data):\n",
    "        ax[i].plot(data[d], lw=3.5, color='blue')\n",
    "        ax[i].set_title(d, fontsize=20)\n",
    "        ax[i].tick_params(axis='both', which='major', labelsize=18)\n",
    "    \n",
    "    if fit_cases:\n",
    "        x = np.arange(len(data['Cases']))\n",
    "        y = data['Cases']\n",
    "        p, _ = curve_fit(f, x, y, p0=[1., len(x), np.max(y)])\n",
    "        x = np.arange(2 * len(x))\n",
    "        y = f(x, p[0], p[1], p[2])\n",
    "        for a in ax:\n",
    "            if a.get_title() == 'Cases':\n",
    "                a.plot(x, y, lw=2., ls='dotted', color='red')\n",
    "                break\n",
    "        print('\\nFit params *Cases*\\n > Rate = {:6.3f}\\n > Peak day = {:6.3f}\\n > Max cases = {:6.3f}'.format(p[0], p[1], p[2]))\n",
    "    \n",
    "    if fit_deaths:\n",
    "        x = np.arange(len(data['Deaths']))\n",
    "        y = data['Deaths']\n",
    "        p, _ = curve_fit(f, x, y, p0=[1., len(x), np.max(y)])\n",
    "        x = np.arange(2 * len(x))\n",
    "        y = f(x, p[0], p[1], p[2])\n",
    "        for a in ax:\n",
    "            if a.get_title() == 'Deaths':\n",
    "                a.plot(x, y, lw=2., ls='dotted', color='red')\n",
    "                break\n",
    "        print('\\nFit params *Deaths*\\n > Rate = {:6.3f}\\n > Peak day = {:6.3f}\\n > Max deaths = {:6.3f}'.format(p[0], p[1], p[2]))\n",
    "    \n",
    "    plt.suptitle('{:s}'.format(c), fontsize=28, y=1.1)\n",
    "    plt.tight_layout()"
   ]
  },
  {
   "cell_type": "code",
   "execution_count": null,
   "metadata": {},
   "outputs": [],
   "source": []
  }
 ],
 "metadata": {
  "kernelspec": {
   "display_name": "Python 3",
   "language": "python",
   "name": "python3"
  },
  "language_info": {
   "codemirror_mode": {
    "name": "ipython",
    "version": 3
   },
   "file_extension": ".py",
   "mimetype": "text/x-python",
   "name": "python",
   "nbconvert_exporter": "python",
   "pygments_lexer": "ipython3",
   "version": "3.6.9"
  }
 },
 "nbformat": 4,
 "nbformat_minor": 2
}
